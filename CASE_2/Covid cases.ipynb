{
 "cells": [
  {
   "cell_type": "code",
   "execution_count": null,
   "id": "002dc147",
   "metadata": {},
   "outputs": [],
   "source": [
    "# !pip install kaggle"
   ]
  },
  {
   "cell_type": "markdown",
   "id": "2b4543a9",
   "metadata": {},
   "source": [
    "- full_grouped.csv - Day to day country wise no. of cases (Has County/State/Province level data)\n",
    "- covid19clean_complete.csv - Day to day country wise no. of cases (Doesn't have County/State/Province level data)\n",
    "- countrywiselatest.csv - Latest country level no. of cases\n",
    "- day_wise.csv - Day wise no. of cases (Doesn't have country level data)\n",
    "- usacountywise.csv - Day to day county level no. of cases\n",
    "- worldometer_data.csv - Latest data from https://www.worldometers.info/"
   ]
  },
  {
   "cell_type": "code",
   "execution_count": null,
   "id": "361ce775",
   "metadata": {},
   "outputs": [],
   "source": [
    "#!mkdir C:\\Users\\luuk\\.kaggle"
   ]
  },
  {
   "cell_type": "code",
   "execution_count": null,
   "id": "16f609e2",
   "metadata": {},
   "outputs": [],
   "source": [
    "#!kaggle datasets list -s 'fraud detection'"
   ]
  },
  {
   "cell_type": "code",
   "execution_count": 1,
   "id": "8730303b",
   "metadata": {},
   "outputs": [
    {
     "name": "stdout",
     "output_type": "stream",
     "text": [
      "Downloading novel-corona-virus-2019-dataset.zip to C:\\Users\\luuk\\groep-19\\CASE_2\n",
      "\n"
     ]
    },
    {
     "name": "stderr",
     "output_type": "stream",
     "text": [
      "\n",
      "  0%|          | 0.00/8.52M [00:00<?, ?B/s]\n",
      " 12%|#1        | 1.00M/8.52M [00:00<00:00, 9.45MB/s]\n",
      " 47%|####6     | 4.00M/8.52M [00:00<00:00, 20.2MB/s]\n",
      " 82%|########2 | 7.00M/8.52M [00:00<00:00, 22.9MB/s]\n",
      "100%|##########| 8.52M/8.52M [00:00<00:00, 22.8MB/s]\n"
     ]
    }
   ],
   "source": [
    "#!kaggle datasets download -d sudalairajkumar/novel-corona-virus-2019-dataset"
   ]
  },
  {
   "cell_type": "code",
   "execution_count": 3,
   "id": "d42bf62a",
   "metadata": {},
   "outputs": [],
   "source": [
    "#import zipfile\n",
    "#with zipfile.ZipFile('novel-corona-virus-2019-dataset.zip', 'r') as zip_ref:\n",
    "#    zip_ref.extractall()"
   ]
  },
  {
   "cell_type": "code",
   "execution_count": null,
   "id": "ff3eb335",
   "metadata": {},
   "outputs": [],
   "source": [
    "# CODE Hierboven is eenmalig om alle csv te downloaden via kaggle API "
   ]
  },
  {
   "cell_type": "code",
   "execution_count": 22,
   "id": "a5e698bb",
   "metadata": {},
   "outputs": [],
   "source": [
    "import pandas as pd\n",
    "import numpy as np\n",
    "import matplotlib.pyplot as plt\n",
    "import datetime"
   ]
  },
  {
   "cell_type": "code",
   "execution_count": 8,
   "id": "2d4fc94c",
   "metadata": {},
   "outputs": [],
   "source": [
    "# Nog 4 csv's, kunnen alvast wat onderzoek naar doen en wat cleaning gebeuren\n",
    "df_covid_deaths = pd.read_csv('time_series_covid_19_confirmed.csv',index_col='Country/Region')\n",
    "df_covid_deaths.drop(['Province/State','Lat','Long'], axis=1, inplace=True)\n",
    "#df.dropna(axis=1, thresh=1, subset=\"Province/State\")"
   ]
  },
  {
   "cell_type": "code",
   "execution_count": null,
   "id": "82b8e7a1",
   "metadata": {},
   "outputs": [],
   "source": []
  }
 ],
 "metadata": {
  "kernelspec": {
   "display_name": "Python 3 (ipykernel)",
   "language": "python",
   "name": "python3"
  },
  "language_info": {
   "codemirror_mode": {
    "name": "ipython",
    "version": 3
   },
   "file_extension": ".py",
   "mimetype": "text/x-python",
   "name": "python",
   "nbconvert_exporter": "python",
   "pygments_lexer": "ipython3",
   "version": "3.9.12"
  }
 },
 "nbformat": 4,
 "nbformat_minor": 5
}
